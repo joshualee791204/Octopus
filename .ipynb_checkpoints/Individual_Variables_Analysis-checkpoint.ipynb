{
 "cells": [
  {
   "cell_type": "code",
   "execution_count": null,
   "metadata": {
    "collapsed": true
   },
   "outputs": [],
   "source": [
    "##This module is to under stand the nature of each colums by it self."
   ]
  },
  {
   "cell_type": "code",
   "execution_count": 278,
   "metadata": {
    "collapsed": true
   },
   "outputs": [],
   "source": [
    "##Load visualization and data frame tools for each column\n",
    "%matplotlib inline\n",
    "import pandas as pd\n",
    "import numpy as np\n",
    "from matplotlib import pyplot as plt\n",
    "import seaborn as sns\n",
    "import matplotlib\n",
    "# from bokeh.io import output_notebook, show\n",
    "# from bokeh.plotting import figure\n",
    "# from bokeh.models import HoverTool, NumeralTickFormatter"
   ]
  },
  {
   "cell_type": "code",
   "execution_count": 279,
   "metadata": {
    "collapsed": true
   },
   "outputs": [],
   "source": [
    "raw_df = pd.read_csv('train.csv')\n",
    "df = raw_df.copy()"
   ]
  },
  {
   "cell_type": "code",
   "execution_count": 280,
   "metadata": {},
   "outputs": [
    {
     "data": {
      "text/plain": [
       "(1460, 81)"
      ]
     },
     "execution_count": 280,
     "metadata": {},
     "output_type": "execute_result"
    }
   ],
   "source": [
    "df.shape"
   ]
  },
  {
   "cell_type": "code",
   "execution_count": 281,
   "metadata": {},
   "outputs": [
    {
     "data": {
      "text/plain": [
       "Index(['Id', 'MSSubClass', 'MSZoning', 'LotFrontage', 'LotArea', 'Street',\n",
       "       'Alley', 'LotShape', 'LandContour', 'Utilities', 'LotConfig',\n",
       "       'LandSlope', 'Neighborhood', 'Condition1', 'Condition2', 'BldgType',\n",
       "       'HouseStyle', 'OverallQual', 'OverallCond', 'YearBuilt', 'YearRemodAdd',\n",
       "       'RoofStyle', 'RoofMatl', 'Exterior1st', 'Exterior2nd', 'MasVnrType',\n",
       "       'MasVnrArea', 'ExterQual', 'ExterCond', 'Foundation', 'BsmtQual',\n",
       "       'BsmtCond', 'BsmtExposure', 'BsmtFinType1', 'BsmtFinSF1',\n",
       "       'BsmtFinType2', 'BsmtFinSF2', 'BsmtUnfSF', 'TotalBsmtSF', 'Heating',\n",
       "       'HeatingQC', 'CentralAir', 'Electrical', '1stFlrSF', '2ndFlrSF',\n",
       "       'LowQualFinSF', 'GrLivArea', 'BsmtFullBath', 'BsmtHalfBath', 'FullBath',\n",
       "       'HalfBath', 'BedroomAbvGr', 'KitchenAbvGr', 'KitchenQual',\n",
       "       'TotRmsAbvGrd', 'Functional', 'Fireplaces', 'FireplaceQu', 'GarageType',\n",
       "       'GarageYrBlt', 'GarageFinish', 'GarageCars', 'GarageArea', 'GarageQual',\n",
       "       'GarageCond', 'PavedDrive', 'WoodDeckSF', 'OpenPorchSF',\n",
       "       'EnclosedPorch', '3SsnPorch', 'ScreenPorch', 'PoolArea', 'PoolQC',\n",
       "       'Fence', 'MiscFeature', 'MiscVal', 'MoSold', 'YrSold', 'SaleType',\n",
       "       'SaleCondition', 'SalePrice'],\n",
       "      dtype='object')"
      ]
     },
     "execution_count": 281,
     "metadata": {},
     "output_type": "execute_result"
    }
   ],
   "source": [
    "df.columns"
   ]
  },
  {
   "cell_type": "code",
   "execution_count": 18,
   "metadata": {},
   "outputs": [
    {
     "data": {
      "text/plain": [
       "1460"
      ]
     },
     "execution_count": 18,
     "metadata": {},
     "output_type": "execute_result"
    }
   ],
   "source": [
    "######(1): Id columns\n",
    "##df.Id.dropna().shape returns 1460, thus NO NAs\n",
    "##df.Id.nunique() returns 1460, thus NO duplicates"
   ]
  },
  {
   "cell_type": "code",
   "execution_count": 282,
   "metadata": {
    "collapsed": true
   },
   "outputs": [],
   "source": [
    "#this function will get the column name and return the number of NAs, num of duplicates excluding NAs.\n",
    "def summary_indetail(df):\n",
    "    summ = pd.DataFrame(df.columns, columns=['name'])\n",
    "    summ['type'] = [type(df[col][df[col].first_valid_index()]) for col in df.columns]\n",
    "    summ['num_not_NAs'] = [df[col].dropna().shape[0] for col in df.columns]\n",
    "    summ['num_dupl'] = [df[col].dropna().nunique() for col in df.columns]\n",
    "    summ['ratio_NAs'] = [(1460-x)/1460 for x in summ['num_not_NAs']]\n",
    "    return summ"
   ]
  },
  {
   "cell_type": "code",
   "execution_count": 260,
   "metadata": {
    "collapsed": true
   },
   "outputs": [],
   "source": [
    "#This function will plot the columns with df and range of column index as input.\n",
    "def plot_individual_columns(df,range_col):\n",
    "    try:\n",
    "        for i in range_col:\n",
    "            serie = df.iloc[:,i]\n",
    "            ##There are three classes for all the columns: float, integer, and str\n",
    "            if type(df.iloc[:,i].dropna().values[0]) is np.float64:\n",
    "                plt.figure(i)\n",
    "                sns.distplot(df.iloc[:,i].dropna(), label=('%s' %(df.columns[i])))\n",
    "            else:\n",
    "                if type(df.iloc[:,i].dropna().values[0]) is np.int64:\n",
    "                    plt.figure(i)\n",
    "                    plt.hist(df.iloc[:,i])\n",
    "                    plt.xlabel('%s' %(df.columns[i]))\n",
    "                else:\n",
    "                    ##The category columns are not plotted. \n",
    "                    pass\n",
    "            plt.show()\n",
    "    except IndexError:\n",
    "        print(\"Error: The index selected is out of the range\")"
   ]
  },
  {
   "cell_type": "code",
   "execution_count": 273,
   "metadata": {
    "scrolled": false
   },
   "outputs": [],
   "source": [
    "##you can choose the range(81) to get all the plots but not the strs\n",
    "#plot_individual_columns(df,range(82))"
   ]
  },
  {
   "cell_type": "code",
   "execution_count": 249,
   "metadata": {},
   "outputs": [
    {
     "data": {
      "text/html": [
       "<div>\n",
       "<style>\n",
       "    .dataframe thead tr:only-child th {\n",
       "        text-align: right;\n",
       "    }\n",
       "\n",
       "    .dataframe thead th {\n",
       "        text-align: left;\n",
       "    }\n",
       "\n",
       "    .dataframe tbody tr th {\n",
       "        vertical-align: top;\n",
       "    }\n",
       "</style>\n",
       "<table border=\"1\" class=\"dataframe\">\n",
       "  <thead>\n",
       "    <tr style=\"text-align: right;\">\n",
       "      <th></th>\n",
       "      <th>name</th>\n",
       "      <th>type</th>\n",
       "      <th>num_not_NAs</th>\n",
       "      <th>num_dupl</th>\n",
       "    </tr>\n",
       "  </thead>\n",
       "  <tbody>\n",
       "    <tr>\n",
       "      <th>0</th>\n",
       "      <td>Id</td>\n",
       "      <td>&lt;class 'numpy.int64'&gt;</td>\n",
       "      <td>1460</td>\n",
       "      <td>1460</td>\n",
       "    </tr>\n",
       "    <tr>\n",
       "      <th>1</th>\n",
       "      <td>MSSubClass</td>\n",
       "      <td>&lt;class 'numpy.int64'&gt;</td>\n",
       "      <td>1460</td>\n",
       "      <td>15</td>\n",
       "    </tr>\n",
       "    <tr>\n",
       "      <th>2</th>\n",
       "      <td>MSZoning</td>\n",
       "      <td>&lt;class 'str'&gt;</td>\n",
       "      <td>1460</td>\n",
       "      <td>5</td>\n",
       "    </tr>\n",
       "    <tr>\n",
       "      <th>3</th>\n",
       "      <td>LotFrontage</td>\n",
       "      <td>&lt;class 'numpy.float64'&gt;</td>\n",
       "      <td>1201</td>\n",
       "      <td>110</td>\n",
       "    </tr>\n",
       "    <tr>\n",
       "      <th>4</th>\n",
       "      <td>LotArea</td>\n",
       "      <td>&lt;class 'numpy.int64'&gt;</td>\n",
       "      <td>1460</td>\n",
       "      <td>1073</td>\n",
       "    </tr>\n",
       "  </tbody>\n",
       "</table>\n",
       "</div>"
      ],
      "text/plain": [
       "          name                     type  num_not_NAs  num_dupl\n",
       "0           Id    <class 'numpy.int64'>         1460      1460\n",
       "1   MSSubClass    <class 'numpy.int64'>         1460        15\n",
       "2     MSZoning            <class 'str'>         1460         5\n",
       "3  LotFrontage  <class 'numpy.float64'>         1201       110\n",
       "4      LotArea    <class 'numpy.int64'>         1460      1073"
      ]
     },
     "execution_count": 249,
     "metadata": {},
     "output_type": "execute_result"
    }
   ],
   "source": [
    "summary_indetail(df).head()"
   ]
  },
  {
   "cell_type": "code",
   "execution_count": 270,
   "metadata": {
    "collapsed": true
   },
   "outputs": [],
   "source": [
    "temp= summary_indetail(df)\n",
    "#temp.ratio_NAs.sort_values(ascending=False)"
   ]
  },
  {
   "cell_type": "code",
   "execution_count": 286,
   "metadata": {},
   "outputs": [
    {
     "data": {
      "text/plain": [
       "72       7\n",
       "74      54\n",
       "6       91\n",
       "73     281\n",
       "57     770\n",
       "3     1201\n",
       "59    1379\n",
       "58    1379\n",
       "60    1379\n",
       "63    1379\n",
       "64    1379\n",
       "32    1422\n",
       "35    1422\n",
       "33    1423\n",
       "31    1423\n",
       "30    1423\n",
       "26    1452\n",
       "25    1452\n",
       "42    1459\n",
       "53    1460\n",
       "51    1460\n",
       "50    1460\n",
       "49    1460\n",
       "48    1460\n",
       "54    1460\n",
       "47    1460\n",
       "52    1460\n",
       "55    1460\n",
       "0     1460\n",
       "46    1460\n",
       "      ... \n",
       "12    1460\n",
       "11    1460\n",
       "17    1460\n",
       "10    1460\n",
       "8     1460\n",
       "7     1460\n",
       "5     1460\n",
       "4     1460\n",
       "2     1460\n",
       "1     1460\n",
       "9     1460\n",
       "44    1460\n",
       "18    1460\n",
       "20    1460\n",
       "41    1460\n",
       "79    1460\n",
       "39    1460\n",
       "38    1460\n",
       "37    1460\n",
       "36    1460\n",
       "19    1460\n",
       "34    1460\n",
       "28    1460\n",
       "27    1460\n",
       "24    1460\n",
       "23    1460\n",
       "22    1460\n",
       "21    1460\n",
       "29    1460\n",
       "80    1460\n",
       "Name: num_not_NAs, Length: 81, dtype: int64"
      ]
     },
     "execution_count": 286,
     "metadata": {},
     "output_type": "execute_result"
    }
   ],
   "source": []
  },
  {
   "cell_type": "code",
   "execution_count": null,
   "metadata": {
    "collapsed": true
   },
   "outputs": [],
   "source": []
  }
 ],
 "metadata": {
  "kernelspec": {
   "display_name": "Python 3",
   "language": "python",
   "name": "python3"
  },
  "language_info": {
   "codemirror_mode": {
    "name": "ipython",
    "version": 3
   },
   "file_extension": ".py",
   "mimetype": "text/x-python",
   "name": "python",
   "nbconvert_exporter": "python",
   "pygments_lexer": "ipython3",
   "version": "3.5.3"
  }
 },
 "nbformat": 4,
 "nbformat_minor": 2
}
