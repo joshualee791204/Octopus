{
 "cells": [
  {
   "cell_type": "code",
   "execution_count": 149,
   "metadata": {
    "collapsed": true
   },
   "outputs": [],
   "source": [
    "####################\n",
    "# Load Data #\n",
    "####################"
   ]
  },
  {
   "cell_type": "code",
   "execution_count": 267,
   "metadata": {
    "collapsed": true
   },
   "outputs": [],
   "source": [
    "from __future__ import print_function  # Python 2 and 3\n",
    "import numpy as np\n",
    "import pandas as pd\n",
    "from scipy import stats\n",
    "import matplotlib.pyplot as plt\n",
    "from scipy import stats\n",
    "%matplotlib inline\n",
    "from math import log, exp\n",
    "pd.options.mode.chained_assignment = None  # default='warn'\n",
    "from sklearn import linear_model"
   ]
  },
  {
   "cell_type": "code",
   "execution_count": 238,
   "metadata": {
    "collapsed": true
   },
   "outputs": [],
   "source": [
    "pd.set_option('display.max_columns', 100)\n",
    "pd.set_option('display.max_rows', 100)\n",
    "train_df = pd.read_csv('train.csv')\n",
    "test_df = pd.read_csv('test.csv')"
   ]
  },
  {
   "cell_type": "code",
   "execution_count": 239,
   "metadata": {
    "collapsed": true
   },
   "outputs": [],
   "source": [
    "# Save the 'Id' column\n",
    "train_ID = train_df['Id']\n",
    "test_ID = test_df['Id']\n",
    "# Now drop the 'Id' colum since we can not use it as a feature to train our model.\n",
    "train_df.drop(\"Id\", axis = 1, inplace = True)\n",
    "test_df.drop(\"Id\", axis = 1, inplace = True)"
   ]
  },
  {
   "cell_type": "code",
   "execution_count": 240,
   "metadata": {
    "collapsed": true
   },
   "outputs": [],
   "source": [
    "y_train_raw = train_df['SalePrice']\n",
    "x_train_raw = train_df.drop('SalePrice', axis=1)\n",
    "x_test_raw = test_df.copy()"
   ]
  },
  {
   "cell_type": "code",
   "execution_count": 241,
   "metadata": {
    "collapsed": true
   },
   "outputs": [],
   "source": [
    "#delete the loaded csv files\n",
    "del train_df, test_df"
   ]
  },
  {
   "cell_type": "code",
   "execution_count": 242,
   "metadata": {
    "collapsed": true
   },
   "outputs": [],
   "source": [
    "##############################\n",
    "# Multi Linear Ridge Model_1 #\n",
    "##############################"
   ]
  },
  {
   "cell_type": "code",
   "execution_count": 243,
   "metadata": {},
   "outputs": [
    {
     "data": {
      "text/plain": [
       "(2919, 79)"
      ]
     },
     "execution_count": 243,
     "metadata": {},
     "output_type": "execute_result"
    }
   ],
   "source": [
    "all_data = pd.concat([x_train_raw, x_test_raw])\n",
    "all_data.shape"
   ]
  },
  {
   "cell_type": "code",
   "execution_count": 244,
   "metadata": {},
   "outputs": [],
   "source": [
    "#call the impute function in process module\n",
    "from preprocess import impute_multi_1\n",
    "all_data_imputed = impute_multi_1(all_data)"
   ]
  },
  {
   "cell_type": "code",
   "execution_count": 245,
   "metadata": {
    "collapsed": true
   },
   "outputs": [],
   "source": [
    "#use one_hot encoding to dummify all the category data\n",
    "one_hot_df = pd.get_dummies(all_data_imputed, drop_first=True, dummy_na=True)"
   ]
  },
  {
   "cell_type": "code",
   "execution_count": 246,
   "metadata": {
    "collapsed": true
   },
   "outputs": [],
   "source": [
    "#choose the first 1460 as train sample\n",
    "x_train = one_hot_df.iloc[list(range(1460)),:]\n",
    "#choose the first 1460 as train sample\n",
    "x_test = one_hot_df.iloc[list(range(1460,2919)),:]"
   ]
  },
  {
   "cell_type": "code",
   "execution_count": 247,
   "metadata": {
    "collapsed": true
   },
   "outputs": [],
   "source": [
    "#y_train transformation\n",
    "y_train = [log(x) for x in y_train_raw]"
   ]
  },
  {
   "cell_type": "code",
   "execution_count": 248,
   "metadata": {},
   "outputs": [],
   "source": [
    "#tranform x**0.5\n",
    "x_train['LotArea'] =[x**0.5 for x in x_train.LotArea]\n",
    "x_train['LotFrontage']=[x**0.5 for x in x_train.LotFrontage]\n",
    "x_train['MasVnrArea']=[x**0.5 for x in x_train['MasVnrArea']]\n",
    "x_train['BsmtFinSF1']=[x**0.5 for x in x_train.BsmtFinSF1]\n",
    "x_train['BsmtUnfSF']=[x**0.5 for x in x_train.BsmtUnfSF]\n",
    "x_train['TotalBsmtSF']=[x**0.5 for x in x_train.TotalBsmtSF]\n",
    "x_train['1stFlrSF']=[x**0.5 for x in x_train['1stFlrSF']]\n",
    "#transform x**0.5\n",
    "x_train['2ndFlrSF']=[x**0.5 for x in x_train['2ndFlrSF']]\n",
    "x_train['GrLivArea']=[x**0.5 for x in x_train['GrLivArea']]\n",
    "x_train['GarageArea']=[x**0.5 for x in x_train['GarageArea']]\n",
    "x_train['TotalSF']=[x**0.5 for x in x_train['TotalSF']]\n",
    "x_train['OpenPorchSF']=[x**0.5 if x>0 else x for x in x_train['OpenPorchSF']]\n",
    "x_train['WoodDeckSF']=[x**0.5 if x>0 else x for x in x_train['WoodDeckSF']]"
   ]
  },
  {
   "cell_type": "code",
   "execution_count": 249,
   "metadata": {},
   "outputs": [],
   "source": [
    "#test set transformation\n",
    "x_test['LotArea'] =[x**0.5 for x in x_test.LotArea]\n",
    "x_test['LotFrontage']=[x**0.5 for x in x_test.LotFrontage]\n",
    "x_test['MasVnrArea']=[x**0.5 for x in x_test['MasVnrArea']]\n",
    "x_test['BsmtFinSF1']=[x**0.5 for x in x_test.BsmtFinSF1]\n",
    "x_test['BsmtUnfSF']=[x**0.5 for x in x_test.BsmtUnfSF]\n",
    "x_test['TotalBsmtSF']=[x**0.5 for x in x_test.TotalBsmtSF]\n",
    "x_test['1stFlrSF']=[x**0.5 for x in x_test['1stFlrSF']]\n",
    "#test set transformation\n",
    "x_test['2ndFlrSF']=[x**0.5 for x in x_test['2ndFlrSF']]\n",
    "x_test['GrLivArea']=[x**0.5 for x in x_test['GrLivArea']]\n",
    "x_test['GarageArea']=[x**0.5 for x in x_test['GarageArea']]\n",
    "x_test['TotalSF']=[x**0.5 for x in x_test['TotalSF']]\n",
    "x_test['OpenPorchSF']=[x**0.5 if x>0 else x for x in x_test['OpenPorchSF']]\n",
    "x_test['WoodDeckSF']=[x**0.5 if x>0 else x for x in x_test['WoodDeckSF']]"
   ]
  },
  {
   "cell_type": "code",
   "execution_count": 250,
   "metadata": {
    "collapsed": true
   },
   "outputs": [],
   "source": [
    "alphas = np.logspace(-1, 0.1, 30)"
   ]
  },
  {
   "cell_type": "code",
   "execution_count": 251,
   "metadata": {
    "scrolled": true
   },
   "outputs": [
    {
     "name": "stderr",
     "output_type": "stream",
     "text": [
      "/Users/Strider/anaconda/envs/py35/lib/python3.5/site-packages/matplotlib/axes/_axes.py:545: UserWarning: No labelled objects found. Use label='...' kwarg on individual plots.\n",
      "  warnings.warn(\"No labelled objects found. \"\n"
     ]
    },
    {
     "data": {
      "image/png": "[encoded data removed]",
      "text/plain": [
       "<matplotlib.figure.Figure at 0x116f28780>"
      ]
     },
     "metadata": {},
     "output_type": "display_data"
    }
   ],
   "source": [
    "from sklearn import linear_model\n",
    "from sklearn.model_selection import cross_val_score\n",
    "alphas = np.logspace(-1, 4, 30)\n",
    "\n",
    "plt.figure(figsize=(5, 3))\n",
    "\n",
    "scores = [cross_val_score(linear_model.Ridge(alpha, normalize=True), x_train, y_train, cv=5, scoring='neg_mean_squared_error').mean() for alpha in alphas]\n",
    "plt.plot(alphas, scores)\n",
    "\n",
    "plt.legend(loc='lower left')\n",
    "plt.xlabel('alpha')\n",
    "plt.ylabel('cross validation score')\n",
    "plt.tight_layout()\n",
    "plt.show()"
   ]
  },
  {
   "cell_type": "code",
   "execution_count": 252,
   "metadata": {},
   "outputs": [
    {
     "data": {
      "text/plain": [
       "3"
      ]
     },
     "execution_count": 252,
     "metadata": {},
     "output_type": "execute_result"
    }
   ],
   "source": [
    "np.argmax(scores)"
   ]
  },
  {
   "cell_type": "code",
   "execution_count": 253,
   "metadata": {},
   "outputs": [
    {
     "data": {
      "text/plain": [
       "0.32903445623126687"
      ]
     },
     "execution_count": 253,
     "metadata": {},
     "output_type": "execute_result"
    }
   ],
   "source": [
    "alphas[3]"
   ]
  },
  {
   "cell_type": "code",
   "execution_count": 254,
   "metadata": {
    "collapsed": true
   },
   "outputs": [],
   "source": [
    "ridge_1st = linear_model.Ridge(0.329, normalize=True)"
   ]
  },
  {
   "cell_type": "code",
   "execution_count": 255,
   "metadata": {},
   "outputs": [
    {
     "data": {
      "text/plain": [
       "Ridge(alpha=0.329, copy_X=True, fit_intercept=True, max_iter=None,\n",
       "   normalize=True, random_state=None, solver='auto', tol=0.001)"
      ]
     },
     "execution_count": 255,
     "metadata": {},
     "output_type": "execute_result"
    }
   ],
   "source": [
    "ridge_1st.fit(x_train, y_train)"
   ]
  },
  {
   "cell_type": "code",
   "execution_count": 229,
   "metadata": {},
   "outputs": [
    {
     "data": {
      "text/plain": [
       "0.92369940771995263"
      ]
     },
     "execution_count": 229,
     "metadata": {},
     "output_type": "execute_result"
    }
   ],
   "source": [
    "ridge_1st.score(x_train, y_train)"
   ]
  },
  {
   "cell_type": "code",
   "execution_count": 230,
   "metadata": {},
   "outputs": [],
   "source": [
    "ridge_1st_test = ridge_1st.predict(x_test)\n",
    "ridge_1st_test = pd.Series([round(exp(x)) for x in ridge_1st_test],name='SalePrice')"
   ]
  },
  {
   "cell_type": "code",
   "execution_count": 232,
   "metadata": {},
   "outputs": [],
   "source": [
    "ridge_1st_out = pd.concat([test_ID, ridge_1st_test], axis=1) "
   ]
  },
  {
   "cell_type": "code",
   "execution_count": 233,
   "metadata": {},
   "outputs": [],
   "source": [
    "ridge_1st_out.to_csv('ridge_1st.csv', index= False)"
   ]
  },
  {
   "cell_type": "code",
   "execution_count": 234,
   "metadata": {},
   "outputs": [
    {
     "data": {
      "text/html": [
       "<div>\n",
       "<style>\n",
       "    .dataframe thead tr:only-child th {\n",
       "        text-align: right;\n",
       "    }\n",
       "\n",
       "    .dataframe thead th {\n",
       "        text-align: left;\n",
       "    }\n",
       "\n",
       "    .dataframe tbody tr th {\n",
       "        vertical-align: top;\n",
       "    }\n",
       "</style>\n",
       "<table border=\"1\" class=\"dataframe\">\n",
       "  <thead>\n",
       "    <tr style=\"text-align: right;\">\n",
       "      <th></th>\n",
       "      <th>Id</th>\n",
       "      <th>SalePrice</th>\n",
       "    </tr>\n",
       "  </thead>\n",
       "  <tbody>\n",
       "    <tr>\n",
       "      <th>0</th>\n",
       "      <td>1461</td>\n",
       "      <td>119347</td>\n",
       "    </tr>\n",
       "    <tr>\n",
       "      <th>1</th>\n",
       "      <td>1462</td>\n",
       "      <td>162394</td>\n",
       "    </tr>\n",
       "    <tr>\n",
       "      <th>2</th>\n",
       "      <td>1463</td>\n",
       "      <td>184412</td>\n",
       "    </tr>\n",
       "    <tr>\n",
       "      <th>3</th>\n",
       "      <td>1464</td>\n",
       "      <td>201511</td>\n",
       "    </tr>\n",
       "    <tr>\n",
       "      <th>4</th>\n",
       "      <td>1465</td>\n",
       "      <td>196479</td>\n",
       "    </tr>\n",
       "  </tbody>\n",
       "</table>\n",
       "</div>"
      ],
      "text/plain": [
       "     Id  SalePrice\n",
       "0  1461     119347\n",
       "1  1462     162394\n",
       "2  1463     184412\n",
       "3  1464     201511\n",
       "4  1465     196479"
      ]
     },
     "execution_count": 234,
     "metadata": {},
     "output_type": "execute_result"
    }
   ],
   "source": [
    "ridge_1st_out.head()"
   ]
  },
  {
   "cell_type": "code",
   "execution_count": null,
   "metadata": {
    "collapsed": true
   },
   "outputs": [],
   "source": [
    "###############################\n",
    "## Muti_Linear_Lasso_Model_1 ##\n",
    "###############################"
   ]
  },
  {
   "cell_type": "code",
   "execution_count": null,
   "metadata": {},
   "outputs": [],
   "source": [
    "kfold_lasso= range(1,6)\n",
    "alphas_lasso = np.logspace(-2, 4, 50)\n",
    "coef_lasso = []\n",
    "las = linear_model.Lasso(alpha=alphas_lasso)\n",
    "for k in kfold:\n",
    "    \n",
    "    "
   ]
  },
  {
   "cell_type": "code",
   "execution_count": 269,
   "metadata": {},
   "outputs": [],
   "source": []
  },
  {
   "cell_type": "code",
   "execution_count": null,
   "metadata": {},
   "outputs": [],
   "source": []
  },
  {
   "cell_type": "code",
   "execution_count": null,
   "metadata": {
    "collapsed": true
   },
   "outputs": [],
   "source": []
  },
  {
   "cell_type": "code",
   "execution_count": null,
   "metadata": {
    "collapsed": true
   },
   "outputs": [],
   "source": []
  },
  {
   "cell_type": "code",
   "execution_count": null,
   "metadata": {
    "collapsed": true
   },
   "outputs": [],
   "source": []
  },
  {
   "cell_type": "code",
   "execution_count": null,
   "metadata": {
    "collapsed": true
   },
   "outputs": [],
   "source": []
  }
 ],
 "metadata": {
  "kernelspec": {
   "display_name": "Python 3",
   "language": "python",
   "name": "python3"
  },
  "language_info": {
   "codemirror_mode": {
    "name": "ipython",
    "version": 3
   },
   "file_extension": ".py",
   "mimetype": "text/x-python",
   "name": "python",
   "nbconvert_exporter": "python",
   "pygments_lexer": "ipython3",
   "version": "3.5.3"
  }
 },
 "nbformat": 4,
 "nbformat_minor": 2
}
