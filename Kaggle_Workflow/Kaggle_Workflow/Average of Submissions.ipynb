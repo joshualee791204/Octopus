{
 "cells": [
  {
   "cell_type": "code",
   "execution_count": 1,
   "metadata": {
    "collapsed": true
   },
   "outputs": [],
   "source": [
    "import os"
   ]
  },
  {
   "cell_type": "code",
   "execution_count": 7,
   "metadata": {},
   "outputs": [
    {
     "data": {
      "text/plain": [
       "['train_fe1.csv',\n",
       " 'train_fe4.csv',\n",
       " 'gb1_yq.csv',\n",
       " 'data_description.txt',\n",
       " 'X_MiscVal1st.csv',\n",
       " 'rr2_yq.csv',\n",
       " '__pycache__',\n",
       " 'Feature_Engineering_v4_yq.ipynb',\n",
       " 'test.csv',\n",
       " 'Feature_Engineering_v3_yq.ipynb',\n",
       " 'Modeling.ipynb',\n",
       " 'rf1_yq.csv',\n",
       " 'Average of Submissions.ipynb',\n",
       " 'lr1_yq.csv',\n",
       " 'Feature_Engineering_v1.ipynb',\n",
       " 'X_test1st.csv',\n",
       " 'train_fe3.csv',\n",
       " 'test_fe1.csv',\n",
       " 'preprocess.py',\n",
       " '.ipynb_checkpoints',\n",
       " 'X_train1st.csv',\n",
       " 'Feature_Engineering_v2.ipynb',\n",
       " 'test_fe3.csv',\n",
       " 'train.csv',\n",
       " 'test_fe4.csv',\n",
       " 'stacking.py',\n",
       " 'rf3_yq.csv',\n",
       " 'rr1_yq.csv',\n",
       " 'rf2_yq.csv',\n",
       " 'y_train1st.csv',\n",
       " '.DS_Store']"
      ]
     },
     "execution_count": 7,
     "metadata": {},
     "output_type": "execute_result"
    }
   ],
   "source": [
    "os.listdir()"
   ]
  },
  {
   "cell_type": "code",
   "execution_count": 8,
   "metadata": {
    "collapsed": true
   },
   "outputs": [],
   "source": [
    "import pandas as pd"
   ]
  },
  {
   "cell_type": "code",
   "execution_count": 9,
   "metadata": {},
   "outputs": [
    {
     "data": {
      "text/html": [
       "<div>\n",
       "<style>\n",
       "    .dataframe thead tr:only-child th {\n",
       "        text-align: right;\n",
       "    }\n",
       "\n",
       "    .dataframe thead th {\n",
       "        text-align: left;\n",
       "    }\n",
       "\n",
       "    .dataframe tbody tr th {\n",
       "        vertical-align: top;\n",
       "    }\n",
       "</style>\n",
       "<table border=\"1\" class=\"dataframe\">\n",
       "  <thead>\n",
       "    <tr style=\"text-align: right;\">\n",
       "      <th></th>\n",
       "      <th>SalePrice</th>\n",
       "      <th>Id</th>\n",
       "    </tr>\n",
       "  </thead>\n",
       "  <tbody>\n",
       "    <tr>\n",
       "      <th>0</th>\n",
       "      <td>115338.608096</td>\n",
       "      <td>1461</td>\n",
       "    </tr>\n",
       "    <tr>\n",
       "      <th>1</th>\n",
       "      <td>170181.237429</td>\n",
       "      <td>1462</td>\n",
       "    </tr>\n",
       "    <tr>\n",
       "      <th>2</th>\n",
       "      <td>178611.554722</td>\n",
       "      <td>1463</td>\n",
       "    </tr>\n",
       "    <tr>\n",
       "      <th>3</th>\n",
       "      <td>197163.608691</td>\n",
       "      <td>1464</td>\n",
       "    </tr>\n",
       "    <tr>\n",
       "      <th>4</th>\n",
       "      <td>201116.826343</td>\n",
       "      <td>1465</td>\n",
       "    </tr>\n",
       "  </tbody>\n",
       "</table>\n",
       "</div>"
      ],
      "text/plain": [
       "       SalePrice    Id\n",
       "0  115338.608096  1461\n",
       "1  170181.237429  1462\n",
       "2  178611.554722  1463\n",
       "3  197163.608691  1464\n",
       "4  201116.826343  1465"
      ]
     },
     "execution_count": 9,
     "metadata": {},
     "output_type": "execute_result"
    }
   ],
   "source": [
    "rr2 = pd.read_csv('rr2_yq.csv')\n",
    "rr2.head()"
   ]
  },
  {
   "cell_type": "code",
   "execution_count": 10,
   "metadata": {
    "collapsed": true
   },
   "outputs": [],
   "source": [
    "lr1 = pd.read_csv('lr1_yq.csv')\n",
    "rf2 = pd.read_csv('rf2_yq.csv')\n",
    "rf3 = pd.read_csv('rf3_yq.csv')\n",
    "gb1 = pd.read_csv('gb1_yq.csv')"
   ]
  },
  {
   "cell_type": "code",
   "execution_count": 20,
   "metadata": {},
   "outputs": [],
   "source": [
    "df = lr1.copy()"
   ]
  },
  {
   "cell_type": "code",
   "execution_count": 21,
   "metadata": {
    "collapsed": true
   },
   "outputs": [],
   "source": [
    "# df = pd.merge(df, lr1, on='Id')\n",
    "df = pd.merge(df, rf2, on='Id')\n",
    "df = pd.merge(df, rf3, on='Id')\n",
    "df = pd.merge(df, gb1, on='Id')\n"
   ]
  },
  {
   "cell_type": "code",
   "execution_count": 22,
   "metadata": {},
   "outputs": [
    {
     "data": {
      "text/html": [
       "<div>\n",
       "<style>\n",
       "    .dataframe thead tr:only-child th {\n",
       "        text-align: right;\n",
       "    }\n",
       "\n",
       "    .dataframe thead th {\n",
       "        text-align: left;\n",
       "    }\n",
       "\n",
       "    .dataframe tbody tr th {\n",
       "        vertical-align: top;\n",
       "    }\n",
       "</style>\n",
       "<table border=\"1\" class=\"dataframe\">\n",
       "  <thead>\n",
       "    <tr style=\"text-align: right;\">\n",
       "      <th></th>\n",
       "      <th>SalePrice_x</th>\n",
       "      <th>Id</th>\n",
       "      <th>SalePrice_y</th>\n",
       "      <th>SalePrice_x</th>\n",
       "      <th>SalePrice_y</th>\n",
       "    </tr>\n",
       "  </thead>\n",
       "  <tbody>\n",
       "    <tr>\n",
       "      <th>0</th>\n",
       "      <td>112733.605421</td>\n",
       "      <td>1461</td>\n",
       "      <td>122164.554402</td>\n",
       "      <td>124099.520499</td>\n",
       "      <td>122717.471522</td>\n",
       "    </tr>\n",
       "    <tr>\n",
       "      <th>1</th>\n",
       "      <td>169346.248192</td>\n",
       "      <td>1462</td>\n",
       "      <td>165063.330158</td>\n",
       "      <td>165865.951903</td>\n",
       "      <td>172863.908893</td>\n",
       "    </tr>\n",
       "    <tr>\n",
       "      <th>2</th>\n",
       "      <td>178651.386374</td>\n",
       "      <td>1463</td>\n",
       "      <td>179687.009125</td>\n",
       "      <td>177064.228344</td>\n",
       "      <td>187657.453135</td>\n",
       "    </tr>\n",
       "    <tr>\n",
       "      <th>3</th>\n",
       "      <td>195388.704955</td>\n",
       "      <td>1464</td>\n",
       "      <td>187422.081961</td>\n",
       "      <td>185015.069768</td>\n",
       "      <td>192360.717758</td>\n",
       "    </tr>\n",
       "    <tr>\n",
       "      <th>4</th>\n",
       "      <td>201694.361122</td>\n",
       "      <td>1465</td>\n",
       "      <td>194878.988874</td>\n",
       "      <td>196185.539619</td>\n",
       "      <td>187424.625113</td>\n",
       "    </tr>\n",
       "  </tbody>\n",
       "</table>\n",
       "</div>"
      ],
      "text/plain": [
       "     SalePrice_x    Id    SalePrice_y    SalePrice_x    SalePrice_y\n",
       "0  112733.605421  1461  122164.554402  124099.520499  122717.471522\n",
       "1  169346.248192  1462  165063.330158  165865.951903  172863.908893\n",
       "2  178651.386374  1463  179687.009125  177064.228344  187657.453135\n",
       "3  195388.704955  1464  187422.081961  185015.069768  192360.717758\n",
       "4  201694.361122  1465  194878.988874  196185.539619  187424.625113"
      ]
     },
     "execution_count": 22,
     "metadata": {},
     "output_type": "execute_result"
    }
   ],
   "source": [
    "df.head()"
   ]
  },
  {
   "cell_type": "code",
   "execution_count": 23,
   "metadata": {},
   "outputs": [],
   "source": [
    "df.to_csv('average.csv', index=False)"
   ]
  },
  {
   "cell_type": "code",
   "execution_count": null,
   "metadata": {
    "collapsed": true
   },
   "outputs": [],
   "source": []
  }
 ],
 "metadata": {
  "kernelspec": {
   "display_name": "Python 3",
   "language": "python",
   "name": "python3"
  },
  "language_info": {
   "codemirror_mode": {
    "name": "ipython",
    "version": 3
   },
   "file_extension": ".py",
   "mimetype": "text/x-python",
   "name": "python",
   "nbconvert_exporter": "python",
   "pygments_lexer": "ipython3",
   "version": "3.6.1"
  }
 },
 "nbformat": 4,
 "nbformat_minor": 2
}
